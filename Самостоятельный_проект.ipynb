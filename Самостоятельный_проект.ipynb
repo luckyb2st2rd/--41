{
  "cells": [
    {
      "cell_type": "markdown",
      "metadata": {
        "id": "view-in-github",
        "colab_type": "text"
      },
      "source": [
        "<a href=\"https://colab.research.google.com/github/luckyb2st2rd/--41/blob/main/%D0%A1%D0%B0%D0%BC%D0%BE%D1%81%D1%82%D0%BE%D1%8F%D1%82%D0%B5%D0%BB%D1%8C%D0%BD%D1%8B%D0%B9_%D0%BF%D1%80%D0%BE%D0%B5%D0%BA%D1%82.ipynb\" target=\"_parent\"><img src=\"https://colab.research.google.com/assets/colab-badge.svg\" alt=\"Open In Colab\"/></a>"
      ]
    },
    {
      "cell_type": "markdown",
      "metadata": {
        "id": "sVck_LyYMeAM"
      },
      "source": [
        "# Добро пожаловать в самостоятельный проект\n",
        "\n",
        "Самостоятельный проект — это практическая проверка знаний, приобретённых вами на вводном курсе. Каждый раздел посвящён отдельной стадии анализа данных с экскурсом в основы Python.\n",
        "\n",
        "Проект выполняется в пять этапов:\n",
        "\n",
        "•\tПостановка задачи\n",
        "\n",
        "•\tПолучение данных\n",
        "\n",
        "•\tПредобработка данных\n",
        "\n",
        "•\tАнализ данных\n",
        "\n",
        "•\tОформление результатов\n",
        "\n",
        "Для каждой части описаны шаги выполнения c теоретическим приложением. В Jupyter Notebook эти шаги связаны между собой выводами и результатами.\n",
        "\n",
        "**Исследование: Музыка больших городов**\n",
        "\n",
        "Яндекс.Музыка — это крупный продукт с огромным запасом данных для исследований. Команды таких сервисов для поддержания интереса к продукту и привлечения новых пользователей часто проводят исследования про пользователей. Чтобы удержать клиентов и привлечь новых, сделать бренд более узнаваемым, команда сервиса проводит исследования аудитории, и публикует интересные результаты. Например, интересно сравнить тексты, сочинённые нейросетью, с произведениями настоящих рэперов.\n",
        "Есть исследование, которое напоминает наше: о музыкальных предпочтениях в разных городах России.\n",
        "Итак, вопрос вам: как музыка, которая звучит по дороге на работу в понедельник утром, отличается от той, что играет в среду или в конце рабочей недели? Возьмите данные для Москвы и Петербурга. Сравните, что и в каком режиме слушают их жители.\n",
        "\n",
        "План исследования\n",
        "\n",
        "1.\tПолучение данных. Прочитайте данные, ознакомьтесь с ними.\n",
        "\n",
        "2.\tПредобработка данных. Избавьтесь от дубликатов, проблем с названиями столбцов и пропусками.\n",
        "\n",
        "3.\tАнализ данных. Ответьте на основные вопросы исследования, подготовьте отчётную таблицу или опишите полученный результат.\n",
        "\n",
        "4.\tПодведение итогов. Просмотрите выполненную работу и сформулируйте выводы.\n"
      ]
    },
    {
      "cell_type": "markdown",
      "metadata": {
        "id": "gykwcEOWMeAN"
      },
      "source": [
        "# Этап 1. Получение данных\n",
        "\n",
        "Изучим данные, предоставленные сервисом для проекта.\n",
        "\n",
        "Прочитайте файл music_project.csv и сохраните его в переменной df.\n",
        "\n",
        "Получите  первых 10 строк таблицы, а также общую информацию о данных таблицы df."
      ]
    },
    {
      "cell_type": "code",
      "execution_count": null,
      "metadata": {
        "colab": {
          "base_uri": "https://localhost:8080/"
        },
        "id": "uFbfcSS5MeAO",
        "outputId": "7c6148f1-5823-499b-a3ba-4dca1f445146"
      },
      "outputs": [
        {
          "output_type": "stream",
          "name": "stdout",
          "text": [
            "Drive already mounted at /content/drive; to attempt to forcibly remount, call drive.mount(\"/content/drive\", force_remount=True).\n",
            "     userID                        Track            artist   genre  \\\n",
            "0  FFB692EC            Kamigata To Boots  The Mass Missile    rock   \n",
            "1  55204538  Delayed Because of Accident  Andreas Rönnberg    rock   \n",
            "2    20EC38            Funiculì funiculà       Mario Lanza     pop   \n",
            "3  A3DD03C9        Dragons in the Sunset        Fire + Ice    folk   \n",
            "4  E2DC1FAE                  Soul People        Space Echo   dance   \n",
            "5  842029A1                    Преданная         IMPERVTOR  rusrap   \n",
            "6  4CB90AA5                         True      Roman Messer   dance   \n",
            "7  F03E1C1F             Feeling This Way   Polina Griffith   dance   \n",
            "8  8FA1D3BE     И вновь продолжается бой               NaN  ruspop   \n",
            "9  E772D5C0                    Pessimist               NaN   dance   \n",
            "\n",
            "             City        time        Day  \n",
            "0  Saint-Petersburg  20:28:33  Wednesday  \n",
            "1            Moscow  14:07:09     Friday  \n",
            "2  Saint-Petersburg  20:58:07  Wednesday  \n",
            "3  Saint-Petersburg  08:37:09     Monday  \n",
            "4            Moscow  08:34:34     Monday  \n",
            "5  Saint-Petersburg  13:09:41     Friday  \n",
            "6            Moscow  13:00:07  Wednesday  \n",
            "7            Moscow  20:47:49  Wednesday  \n",
            "8            Moscow  09:17:40     Friday  \n",
            "9  Saint-Petersburg  21:20:49  Wednesday  \n",
            "<class 'pandas.core.frame.DataFrame'>\n",
            "RangeIndex: 65079 entries, 0 to 65078\n",
            "Data columns (total 7 columns):\n",
            " #   Column    Non-Null Count  Dtype \n",
            "---  ------    --------------  ----- \n",
            " 0     userID  65079 non-null  object\n",
            " 1   Track     63848 non-null  object\n",
            " 2   artist    57876 non-null  object\n",
            " 3   genre     63881 non-null  object\n",
            " 4     City    65079 non-null  object\n",
            " 5   time      65079 non-null  object\n",
            " 6   Day       65079 non-null  object\n",
            "dtypes: object(7)\n",
            "memory usage: 3.5+ MB\n"
          ]
        }
      ],
      "source": [
        "# <чтение файла с данными с сохранением в df>\n",
        "from google.colab import drive\n",
        "drive.mount('/content/drive')\n",
        "\n",
        "import pandas as pd\n",
        "\n",
        "df = pd.read_csv('/content/drive/MyDrive/cor/5 laba/yandex_music.csv')\n",
        "\n",
        "# <получение первых 10 строк таблицы df>\n",
        "print(df.head(10))\n",
        "\n",
        "# <получение общей информации о данных в таблице df>\n",
        "df.info()"
      ]
    },
    {
      "cell_type": "markdown",
      "metadata": {
        "id": "VzG8MdGzMeAO"
      },
      "source": [
        "Рассмотрим полученную информацию подробнее.\n",
        "Всего в таблице 7 столбцов, тип данных у каждого столбца - строка.\n",
        "Подробно разберём, какие в df столбцы и какую информацию они содержат:\n",
        "•\tuserID — идентификатор пользователя;\n",
        "•\tTrack — название трека;\n",
        "•\tartist — имя исполнителя;\n",
        "•\tgenre — название жанра;\n",
        "•\tCity — город, в котором происходило прослушивание;\n",
        "•\ttime — время, в которое пользователь слушал трек;\n",
        "•\tDay — день недели.\n",
        "Количество значений в столбцах различается. Это говорит о том, что в данных есть пропущенные значения.\n"
      ]
    },
    {
      "cell_type": "markdown",
      "metadata": {
        "id": "XYE-9f0WMeAO"
      },
      "source": [
        "## Выводы:\n",
        "\n",
        "Каждая строка таблицы содержит информацию о композициях определённого жанра в определённом исполнении, которые пользователи слушали в одном из городов в определённое время и день недели. Две проблемы, которые нужно решать: пропуски и некачественные названия столбцов. Для проверки рабочих гипотез особенно ценны столбцы (*вставьте сюда названия столбцов, наиболее существенных, на ва взгляд*. Данные из столбца *название столбца*  позволят узнать самые популярные жанры."
      ]
    },
    {
      "cell_type": "markdown",
      "metadata": {
        "id": "B-lrn9qEMeAP"
      },
      "source": [
        "# Этап 2. Предобработка данных\n",
        "\n",
        "Исключим пропуски, переименуем столбцы, а также проверим данные на наличие дубликатов.\n",
        "\n",
        "Получаем перечень названий столбцов. Какая наблюдается проблема — кроме тех, что уже были названы ранее?\n"
      ]
    },
    {
      "cell_type": "code",
      "execution_count": null,
      "metadata": {
        "colab": {
          "base_uri": "https://localhost:8080/"
        },
        "id": "Jbn4YA3rMeAP",
        "outputId": "4acfd231-9fc2-4920-8465-f3c1751522e3"
      },
      "outputs": [
        {
          "output_type": "stream",
          "name": "stdout",
          "text": [
            "Index(['  userID', 'Track', 'artist', 'genre', '  City  ', 'time', 'Day'], dtype='object')\n"
          ]
        }
      ],
      "source": [
        "# <перечень названий столбцов таблицы df>\n",
        "print(df.columns)"
      ]
    },
    {
      "cell_type": "markdown",
      "metadata": {
        "id": "KASre8kUMeAP"
      },
      "source": [
        "В названиях столбцов есть пробелы, которые могут затруднять доступ к данным.\n",
        "\n",
        "Переименуем столбцы для удобства дальнейшей работы. Проверим результат.\n"
      ]
    },
    {
      "cell_type": "code",
      "execution_count": null,
      "metadata": {
        "colab": {
          "base_uri": "https://localhost:8080/"
        },
        "id": "wWlHyXH6MeAP",
        "outputId": "08ab2e00-29d8-4a86-eec2-ab741dfd738c"
      },
      "outputs": [
        {
          "output_type": "stream",
          "name": "stdout",
          "text": [
            "Index(['user_id', 'track_name', 'artist_name', 'genre_name', 'city',\n",
            "       'total_play_seconds', 'day'],\n",
            "      dtype='object')\n"
          ]
        }
      ],
      "source": [
        "# <переименование столбцов>\n",
        "# <проверка результатов - перечень названий столбцов>\n",
        "new_names = ['user_id', 'track_name', 'artist_name', 'genre_name', 'city', 'total_play_seconds', 'day']\n",
        "\n",
        "df = df.set_axis(new_names, axis='columns')\n",
        "\n",
        "print(df.columns)"
      ]
    },
    {
      "cell_type": "markdown",
      "metadata": {
        "id": "IOv20j9pMeAP"
      },
      "source": [
        "Проверим данные на наличие пропусков вызовом набора методов для суммирования пропущенных значений."
      ]
    },
    {
      "cell_type": "code",
      "execution_count": null,
      "metadata": {
        "colab": {
          "base_uri": "https://localhost:8080/"
        },
        "id": "TPfcHAOHMeAQ",
        "outputId": "5ac7ee7c-b253-4875-df8a-10cffbff2c07"
      },
      "outputs": [
        {
          "output_type": "stream",
          "name": "stdout",
          "text": [
            "user_id                  0\n",
            "track_name            1231\n",
            "artist_name           7203\n",
            "genre_name            1198\n",
            "city                     0\n",
            "total_play_seconds       0\n",
            "day                      0\n",
            "dtype: int64\n"
          ]
        }
      ],
      "source": [
        "# <суммарное количество пропусков, выявленных методом isnull() в таблице df>\n",
        "print(df.isna().sum())"
      ]
    },
    {
      "cell_type": "markdown",
      "metadata": {
        "id": "kYMLOLTeMeAQ"
      },
      "source": [
        "Пустые значения свидетельствуют, что для некоторых треков доступна не вся информация. Причины могут быть разные: скажем, не назван конкретный исполнитель народной песни. Хуже, если проблемы с записью данных. Каждый отдельный случай необходимо разобрать и выявить причину.\n",
        "\n",
        "Заменяем пропущенные значения в столбцах с названием трека и исполнителя на строку 'unknown'. После этой операции нужно убедиться, что таблица больше не содержит пропусков.\n"
      ]
    },
    {
      "cell_type": "code",
      "execution_count": null,
      "metadata": {
        "id": "5eBRcP_rMeAQ"
      },
      "outputs": [],
      "source": [
        "# <замена пропущенных значений в столбце 'track_name' на строку 'unknown' специальным методом замены>\n",
        "# <замена пропущенных значений в столбце 'artist_name' на строку 'unknown' специальным методом замены>\n",
        "df['track_name'] = df['track_name'].fillna('unknown')\n",
        "df['artist_name'] = df['artist_name'].fillna('unknown')"
      ]
    },
    {
      "cell_type": "code",
      "execution_count": null,
      "metadata": {
        "colab": {
          "base_uri": "https://localhost:8080/"
        },
        "id": "yxWRL_RQMeAQ",
        "outputId": "583aa74c-73c9-4eee-c55a-5c69e4218aef"
      },
      "outputs": [
        {
          "output_type": "stream",
          "name": "stdout",
          "text": [
            "user_id                  0\n",
            "track_name               0\n",
            "artist_name              0\n",
            "genre_name            1198\n",
            "city                     0\n",
            "total_play_seconds       0\n",
            "day                      0\n",
            "dtype: int64\n"
          ]
        }
      ],
      "source": [
        "# <проверка: вычисление суммарного количества пропусков, выявленных в таблице df>\n",
        "print(df.isna().sum())"
      ]
    },
    {
      "cell_type": "markdown",
      "metadata": {
        "id": "f04Sc3-3MeAQ"
      },
      "source": [
        "Удаляем в столбце с жанрами пустые значения; убеждаемся, что их больше не осталось."
      ]
    },
    {
      "cell_type": "code",
      "execution_count": null,
      "metadata": {
        "colab": {
          "base_uri": "https://localhost:8080/"
        },
        "id": "MHeGZWtrMeAQ",
        "outputId": "42990967-5023-45c9-c895-10f7d6f474ce"
      },
      "outputs": [
        {
          "output_type": "stream",
          "name": "stdout",
          "text": [
            "user_id               0\n",
            "track_name            0\n",
            "artist_name           0\n",
            "genre_name            0\n",
            "city                  0\n",
            "total_play_seconds    0\n",
            "day                   0\n",
            "dtype: int64\n"
          ]
        }
      ],
      "source": [
        "# <удаление пропущенных значений в столбце 'genre_name'>\n",
        "# <проверка>\n",
        "df.dropna(subset = ['genre_name'], inplace=True)\n",
        "print(df.isna().sum())"
      ]
    },
    {
      "cell_type": "markdown",
      "metadata": {
        "id": "9HAAUMZ_MeAQ"
      },
      "source": [
        "Необходимо установить наличие дубликатов. Если найдутся, удаляем, и проверяем, все ли удалились."
      ]
    },
    {
      "cell_type": "code",
      "execution_count": null,
      "metadata": {
        "colab": {
          "base_uri": "https://localhost:8080/"
        },
        "id": "_x6sQyKpMeAQ",
        "outputId": "09434836-80c3-4e87-9a8f-73f60db3680b"
      },
      "outputs": [
        {
          "output_type": "stream",
          "name": "stdout",
          "text": [
            "3755\n",
            "0\n"
          ]
        }
      ],
      "source": [
        "# <получение суммарного количества дубликатов в таблице df>\n",
        "print(df.duplicated().sum())\n",
        "# <удаление всех дубликатов из таблицы df специальным методом>\n",
        "df.drop_duplicates(inplace = True)\n",
        "df.reset_index(drop = True)\n",
        "# <проверка на отсутствие>\n",
        "print(df.duplicated().sum())"
      ]
    },
    {
      "cell_type": "markdown",
      "metadata": {
        "id": "a2R86eLpMeAQ"
      },
      "source": [
        "Дубликаты могли появиться вследствие сбоя в записи данных. Стоит обратить внимание и разобраться с причинами появления такого «информационного мусора».\n",
        "\n",
        "Сохраняем список уникальных значений столбца с жанрами в переменной genres_list.\n",
        "\n",
        "Объявим функцию find_genre() для поиска неявных дубликатов в столбце с жанрами. Например, когда название одного и того же жанра написано разными словами.\n"
      ]
    },
    {
      "cell_type": "code",
      "execution_count": null,
      "metadata": {
        "id": "lyj54P7_MeAR"
      },
      "outputs": [],
      "source": [
        "# <сохранение в переменной genres_list списка уникальных значений,\n",
        "# выявленных специальным методом в столбце 'genre_name'>\n",
        "genre_list = df['genre_name'].unique()"
      ]
    },
    {
      "cell_type": "code",
      "execution_count": null,
      "metadata": {
        "colab": {
          "base_uri": "https://localhost:8080/"
        },
        "id": "d8CLtu43MeAR",
        "outputId": "82d4e6c3-72f0-43a2-99dd-d4b7903e9171"
      },
      "outputs": [
        {
          "output_type": "stream",
          "name": "stdout",
          "text": [
            "1\n"
          ]
        }
      ],
      "source": [
        "# <создание функции find_genre()>\n",
        "# функция принимает как параметр строку с названием искомого жанра\n",
        "# в теле объявляется переменная-счётчик, ей присваивается значение 0,\n",
        "# затем цикл for проходит по списку уникальных значений\n",
        "# если очередной элемент списка равен параметру функции,\n",
        "# то значение счётчика увеличивается на 1\n",
        "# по окончании работы цикла функция возвращает значение счётчика\n",
        "def find_genre(searching):\n",
        "  counter = 0\n",
        "  global genre_list\n",
        "\n",
        "  for genre in genre_list:\n",
        "    if searching == genre:\n",
        "      counter+=1\n",
        "  return counter\n",
        "\n",
        "print(find_genre('hiphop'))\n"
      ]
    },
    {
      "cell_type": "markdown",
      "metadata": {
        "id": "XjIR2vKmMeAR"
      },
      "source": [
        "Вызов функции find_genre() для поиска различных вариантов названия жанра хип-хоп в таблице.\n",
        "\n",
        "Правильное название — hiphop. Поищем другие варианты:\n",
        "\n",
        "•\thip\n",
        "\n",
        "•\thop\n",
        "\n",
        "•\thip-hop\n"
      ]
    },
    {
      "cell_type": "code",
      "execution_count": null,
      "metadata": {
        "colab": {
          "base_uri": "https://localhost:8080/"
        },
        "id": "5Q4qnGUlMeAR",
        "outputId": "f5e23b63-a324-4954-dd67-fc413482eeb8"
      },
      "outputs": [
        {
          "output_type": "stream",
          "name": "stdout",
          "text": [
            "1\n"
          ]
        }
      ],
      "source": [
        "# <вызовом функции find_genre() проверяется наличие варианта 'hip'>\n",
        "print(find_genre(\"hip\"))"
      ]
    },
    {
      "cell_type": "code",
      "execution_count": null,
      "metadata": {
        "colab": {
          "base_uri": "https://localhost:8080/"
        },
        "id": "AoBwzZ8pMeAR",
        "outputId": "8f2889da-d5f5-4571-bfbe-c54439c2846d"
      },
      "outputs": [
        {
          "output_type": "stream",
          "name": "stdout",
          "text": [
            "1\n"
          ]
        }
      ],
      "source": [
        "# <проверяется наличие варианта 'hop'>\n",
        "print(find_genre(\"hop\"))"
      ]
    },
    {
      "cell_type": "code",
      "execution_count": null,
      "metadata": {
        "colab": {
          "base_uri": "https://localhost:8080/"
        },
        "id": "Nl9jxS11MeAR",
        "outputId": "02beb434-a8fc-4ef9-c516-004a26f0ec5e"
      },
      "outputs": [
        {
          "output_type": "stream",
          "name": "stdout",
          "text": [
            "1\n"
          ]
        }
      ],
      "source": [
        "# <проверяется наличие варианта 'hip-hop'>\n",
        "print(find_genre(\"hip-hop\"))"
      ]
    },
    {
      "cell_type": "markdown",
      "metadata": {
        "id": "rbXWPXLuMeAR"
      },
      "source": [
        "Объявим функцию find_hip_hop(), которая заменяет неправильное название этого жанра в столбце 'genre_name' на 'hiphop' и проверяет успешность выполнения замены.\n",
        "\n",
        "Так исправляем все варианты написания, которые выявила проверка.\n"
      ]
    },
    {
      "cell_type": "code",
      "execution_count": null,
      "metadata": {
        "id": "TDbpJttAMeAR"
      },
      "outputs": [],
      "source": [
        "# <создание функции find_hip_hop()>\n",
        "# функция принимает как параметры таблицу df и неверное название\n",
        "# к столбцу 'genre_name' применяется специальный метод,\n",
        "# который заменяет второй параметр на строку 'hiphop'\n",
        "# результат работы равен подсчитанному методом count() числу\n",
        "#значений столбца,\n",
        "# которые равны второму параметру\n",
        "# функция возвращает результат\n",
        "def find_hip_hop(df, wrong_name):\n",
        "\n",
        "  replaced = df[df['genre_name'] == wrong_name]['genre_name'].count()\n",
        "  df['genre_name'] = df['genre_name'].replace(wrong_name, 'hiphop')\n",
        "\n",
        "  return replaced"
      ]
    },
    {
      "cell_type": "code",
      "execution_count": null,
      "metadata": {
        "colab": {
          "base_uri": "https://localhost:8080/"
        },
        "id": "OI4T_zQJMeAR",
        "outputId": "fea6bc82-94c0-4e0d-c8c4-9e142bdcfadd"
      },
      "outputs": [
        {
          "output_type": "execute_result",
          "data": {
            "text/plain": [
              "1"
            ]
          },
          "metadata": {},
          "execution_count": 18
        }
      ],
      "source": [
        "# <замена одного неверного варианта на hiphop вызовом функции find_hip_hop()>\n",
        "find_hip_hop(df,'hop')\n",
        "find_hip_hop(df,'hip')\n",
        "find_hip_hop(df,'hip-hop')"
      ]
    },
    {
      "cell_type": "markdown",
      "metadata": {
        "id": "OLYy6UcSMeAR"
      },
      "source": [
        "Получаем общую информацию о данных. Убеждаемся, что чистка выполнена успешно."
      ]
    },
    {
      "cell_type": "code",
      "execution_count": null,
      "metadata": {
        "colab": {
          "base_uri": "https://localhost:8080/"
        },
        "id": "TU4F_HhTMeAR",
        "outputId": "b511888d-b77b-49e3-fcf5-34d2df6ec8e0"
      },
      "outputs": [
        {
          "output_type": "stream",
          "name": "stdout",
          "text": [
            "<class 'pandas.core.frame.DataFrame'>\n",
            "Index: 60126 entries, 0 to 65078\n",
            "Data columns (total 7 columns):\n",
            " #   Column              Non-Null Count  Dtype \n",
            "---  ------              --------------  ----- \n",
            " 0   user_id             60126 non-null  object\n",
            " 1   track_name          60126 non-null  object\n",
            " 2   artist_name         60126 non-null  object\n",
            " 3   genre_name          60126 non-null  object\n",
            " 4   city                60126 non-null  object\n",
            " 5   total_play_seconds  60126 non-null  object\n",
            " 6   day                 60126 non-null  object\n",
            "dtypes: object(7)\n",
            "memory usage: 3.7+ MB\n",
            "None\n"
          ]
        }
      ],
      "source": [
        "# <получение общей информации о данных таблицы df>\n",
        "print(df.info())"
      ]
    },
    {
      "cell_type": "markdown",
      "metadata": {
        "id": "iLkaBMRBMeAR"
      },
      "source": [
        "## Вывод\n",
        "\n",
        "На этапе предобработки в данных обнаружились не только пропуски и проблемы с названиями столбцов, но и всяческие виды дубликатов. Их удаление позволит провести анализ точнее. Поскольку сведения о жанрах важно сохранить для анализа, не просто удаляем все пропущенные значения, но заполним пропущенные имена исполнителей и названия треков. Имена столбцов теперь корректны и удобны для дальнейшей работы.\n"
      ]
    },
    {
      "cell_type": "markdown",
      "metadata": {
        "id": "ZHvd7W4gMeAS"
      },
      "source": [
        "# Действительно ли музыку в разных городах слушают по-разному?\n",
        "\n",
        "Была выдвинута гипотеза, что в Москве и Санкт-Петербурге пользователи слушают музыку по-разному. Проверяем это предположение по данным о трёх днях недели — понедельнике, среде и пятнице.\n",
        "\n",
        "Для каждого города устанавливаем количество прослушанных в эти дни композиций с известным жанром, и сравниваем результаты.\n",
        "Группируем данные по городу и вызовом метода count() подсчитываем композиции, для которых известен жанр.\n"
      ]
    },
    {
      "cell_type": "code",
      "execution_count": null,
      "metadata": {
        "colab": {
          "base_uri": "https://localhost:8080/"
        },
        "id": "bb4zWUKUMeAS",
        "outputId": "f6662778-bec6-4ccf-dc66-fb245fa3ce8f"
      },
      "outputs": [
        {
          "output_type": "stream",
          "name": "stdout",
          "text": [
            "city\n",
            "Moscow              41892\n",
            "Saint-Petersburg    18234\n",
            "Name: genre_name, dtype: int64\n"
          ]
        }
      ],
      "source": [
        "# <группировка данных таблицы df по столбцу 'city' и подсчёт количества значений столбца 'genre_name'>\n",
        "city = df.groupby('city')\n",
        "city_count = city['genre_name'].count()\n",
        "print(city_count)"
      ]
    },
    {
      "cell_type": "markdown",
      "metadata": {
        "id": "TME0qNbpMeAS"
      },
      "source": [
        "В *(вставьте название города)* прослушиваний больше, чем в *(вставьте название города)*, но это не значит, что *(вставьте название города)* более активна. У Яндекс.Музыки в целом больше пользователей в Москве, поэтому величины сопоставимы.\n",
        "Сгруппируем данные по дню недели и подсчитаем прослушанные в понедельник, среду и пятницу композиции, для которых известен жанр.\n"
      ]
    },
    {
      "cell_type": "code",
      "execution_count": null,
      "metadata": {
        "colab": {
          "base_uri": "https://localhost:8080/"
        },
        "id": "s9M3WBCnMeAS",
        "outputId": "86f7a5a5-483f-4616-b8e9-dac45f85ef89"
      },
      "outputs": [
        {
          "output_type": "stream",
          "name": "stdout",
          "text": [
            "day\n",
            "Friday       21482\n",
            "Monday       20866\n",
            "Wednesday    17778\n",
            "Name: genre_name, dtype: int64\n"
          ]
        }
      ],
      "source": [
        "# <группировка данных по столбцу 'weekday' и подсчёт количества значений столбца 'genre_name'>\n",
        "day = df.groupby('day')\n",
        "day_count = day['genre_name'].count()\n",
        "print(day_count)"
      ]
    },
    {
      "cell_type": "markdown",
      "metadata": {
        "id": "4ypl0wOtMeAS"
      },
      "source": [
        "Понедельник и пятница — время для музыки; по средам пользователи немного больше вовлечены в работу.\n",
        "\n",
        "Создаём функцию number_tracks(), которая принимает как параметры таблицу, день недели и название города, а возвращает количество прослушанных композиций, для которых известен жанр. Проверяем количество прослушанных композиций для каждого города и понедельника, затем среды и пятницы.\n"
      ]
    },
    {
      "cell_type": "code",
      "execution_count": null,
      "metadata": {
        "id": "7xdZI5O-MeAS"
      },
      "outputs": [],
      "source": [
        "# <создание функции number_tracks()>\n",
        "# объявляется функция с тремя параметрами: df, day, city\n",
        "# в переменной track_list сохраняются те строки таблицы df, для которых\n",
        "# значение в столбце 'weekday' равно параметру day\n",
        "# и одновременно значение в столбце 'city' равно параметру city\n",
        "# в переменной track_list_count сохраняется число значений столбца 'genre_name',\n",
        "# рассчитанное методом count() для таблицы track_list\n",
        "# функция возвращает значение track_list_count\n",
        "def number_tracks(df, day, city):\n",
        "\n",
        "  track_list = df[(df['day'] == day) & (df['city'] == city)]\n",
        "  track_list_count = track_list['genre_name'].count()\n",
        "  return track_list_count"
      ]
    },
    {
      "cell_type": "code",
      "execution_count": null,
      "metadata": {
        "colab": {
          "base_uri": "https://localhost:8080/"
        },
        "id": "GJBScL6hMeAS",
        "outputId": "cfe00148-e023-4115-f461-2e4fdde66942"
      },
      "outputs": [
        {
          "output_type": "stream",
          "name": "stdout",
          "text": [
            "15347\n"
          ]
        }
      ],
      "source": [
        "# <список композиций для Москвы в понедельник>\n",
        "print(number_tracks(df, 'Monday', 'Moscow'))"
      ]
    },
    {
      "cell_type": "code",
      "execution_count": null,
      "metadata": {
        "colab": {
          "base_uri": "https://localhost:8080/"
        },
        "id": "VzdywevOMeAS",
        "outputId": "8c1e0681-2b3c-4e54-ee29-3823d788b2f2"
      },
      "outputs": [
        {
          "output_type": "stream",
          "name": "stdout",
          "text": [
            "5519\n"
          ]
        }
      ],
      "source": [
        "# <список композиций для Санкт-Петербурга в понедельник>\n",
        "print(number_tracks(df, 'Monday', 'Saint-Petersburg'))"
      ]
    },
    {
      "cell_type": "code",
      "execution_count": null,
      "metadata": {
        "colab": {
          "base_uri": "https://localhost:8080/"
        },
        "id": "9bWTaafOMeAW",
        "outputId": "e9dd145c-a843-400a-977f-16baca915e93"
      },
      "outputs": [
        {
          "output_type": "stream",
          "name": "stdout",
          "text": [
            "10865\n"
          ]
        }
      ],
      "source": [
        "# <список композиций для Москвы в среду>\n",
        "print(number_tracks(df, 'Wednesday', 'Moscow'))"
      ]
    },
    {
      "cell_type": "code",
      "execution_count": null,
      "metadata": {
        "colab": {
          "base_uri": "https://localhost:8080/"
        },
        "id": "q07jyCtjMeAW",
        "outputId": "ac29ca1b-d37e-49ac-f946-24cdfae3d606"
      },
      "outputs": [
        {
          "output_type": "stream",
          "name": "stdout",
          "text": [
            "6913\n"
          ]
        }
      ],
      "source": [
        "# <список композиций для Санкт-Петербурга в среду>\n",
        "print(number_tracks(df, 'Wednesday', 'Saint-Petersburg'))"
      ]
    },
    {
      "cell_type": "code",
      "execution_count": null,
      "metadata": {
        "colab": {
          "base_uri": "https://localhost:8080/"
        },
        "id": "1sEwmJL2MeAW",
        "outputId": "f8104c6c-9acd-40d7-b684-9d21bdac4a66"
      },
      "outputs": [
        {
          "output_type": "stream",
          "name": "stdout",
          "text": [
            "15680\n"
          ]
        }
      ],
      "source": [
        "# <список композиций для Москвы в пятницу>\n",
        "print(number_tracks(df, 'Friday', 'Moscow'))"
      ]
    },
    {
      "cell_type": "code",
      "execution_count": null,
      "metadata": {
        "colab": {
          "base_uri": "https://localhost:8080/"
        },
        "id": "brm6_EudMeAW",
        "outputId": "1072b49c-2052-49e7-b3fd-a1cb3874896f"
      },
      "outputs": [
        {
          "output_type": "stream",
          "name": "stdout",
          "text": [
            "5802\n"
          ]
        }
      ],
      "source": [
        "# <список композиций для Санкт-Петербурга в пятницу>\n",
        "print(number_tracks(df, 'Friday', 'Saint-Petersburg'))"
      ]
    },
    {
      "cell_type": "markdown",
      "metadata": {
        "id": "oH-GWiJrMeAW"
      },
      "source": [
        "Сведём полученную информацию в одну таблицу, где ['city', 'monday', 'wednesday', 'friday'] названия столбцов."
      ]
    },
    {
      "cell_type": "code",
      "execution_count": null,
      "metadata": {
        "colab": {
          "base_uri": "https://localhost:8080/",
          "height": 112
        },
        "id": "M7epQqA6MeAW",
        "outputId": "ff05c7fc-e91c-477e-c83b-85c32da5b312"
      },
      "outputs": [
        {
          "output_type": "execute_result",
          "data": {
            "text/plain": [
              "               city  monday  wednesday  friday\n",
              "0            Moscow   15347      10865   15680\n",
              "1  Saint-Petersburg    5519       6913    5802"
            ],
            "text/html": [
              "\n",
              "  <div id=\"df-1f83ed84-be6c-4a72-85f0-88041a01cc9c\" class=\"colab-df-container\">\n",
              "    <div>\n",
              "<style scoped>\n",
              "    .dataframe tbody tr th:only-of-type {\n",
              "        vertical-align: middle;\n",
              "    }\n",
              "\n",
              "    .dataframe tbody tr th {\n",
              "        vertical-align: top;\n",
              "    }\n",
              "\n",
              "    .dataframe thead th {\n",
              "        text-align: right;\n",
              "    }\n",
              "</style>\n",
              "<table border=\"1\" class=\"dataframe\">\n",
              "  <thead>\n",
              "    <tr style=\"text-align: right;\">\n",
              "      <th></th>\n",
              "      <th>city</th>\n",
              "      <th>monday</th>\n",
              "      <th>wednesday</th>\n",
              "      <th>friday</th>\n",
              "    </tr>\n",
              "  </thead>\n",
              "  <tbody>\n",
              "    <tr>\n",
              "      <th>0</th>\n",
              "      <td>Moscow</td>\n",
              "      <td>15347</td>\n",
              "      <td>10865</td>\n",
              "      <td>15680</td>\n",
              "    </tr>\n",
              "    <tr>\n",
              "      <th>1</th>\n",
              "      <td>Saint-Petersburg</td>\n",
              "      <td>5519</td>\n",
              "      <td>6913</td>\n",
              "      <td>5802</td>\n",
              "    </tr>\n",
              "  </tbody>\n",
              "</table>\n",
              "</div>\n",
              "    <div class=\"colab-df-buttons\">\n",
              "\n",
              "  <div class=\"colab-df-container\">\n",
              "    <button class=\"colab-df-convert\" onclick=\"convertToInteractive('df-1f83ed84-be6c-4a72-85f0-88041a01cc9c')\"\n",
              "            title=\"Convert this dataframe to an interactive table.\"\n",
              "            style=\"display:none;\">\n",
              "\n",
              "  <svg xmlns=\"http://www.w3.org/2000/svg\" height=\"24px\" viewBox=\"0 -960 960 960\">\n",
              "    <path d=\"M120-120v-720h720v720H120Zm60-500h600v-160H180v160Zm220 220h160v-160H400v160Zm0 220h160v-160H400v160ZM180-400h160v-160H180v160Zm440 0h160v-160H620v160ZM180-180h160v-160H180v160Zm440 0h160v-160H620v160Z\"/>\n",
              "  </svg>\n",
              "    </button>\n",
              "\n",
              "  <style>\n",
              "    .colab-df-container {\n",
              "      display:flex;\n",
              "      gap: 12px;\n",
              "    }\n",
              "\n",
              "    .colab-df-convert {\n",
              "      background-color: #E8F0FE;\n",
              "      border: none;\n",
              "      border-radius: 50%;\n",
              "      cursor: pointer;\n",
              "      display: none;\n",
              "      fill: #1967D2;\n",
              "      height: 32px;\n",
              "      padding: 0 0 0 0;\n",
              "      width: 32px;\n",
              "    }\n",
              "\n",
              "    .colab-df-convert:hover {\n",
              "      background-color: #E2EBFA;\n",
              "      box-shadow: 0px 1px 2px rgba(60, 64, 67, 0.3), 0px 1px 3px 1px rgba(60, 64, 67, 0.15);\n",
              "      fill: #174EA6;\n",
              "    }\n",
              "\n",
              "    .colab-df-buttons div {\n",
              "      margin-bottom: 4px;\n",
              "    }\n",
              "\n",
              "    [theme=dark] .colab-df-convert {\n",
              "      background-color: #3B4455;\n",
              "      fill: #D2E3FC;\n",
              "    }\n",
              "\n",
              "    [theme=dark] .colab-df-convert:hover {\n",
              "      background-color: #434B5C;\n",
              "      box-shadow: 0px 1px 3px 1px rgba(0, 0, 0, 0.15);\n",
              "      filter: drop-shadow(0px 1px 2px rgba(0, 0, 0, 0.3));\n",
              "      fill: #FFFFFF;\n",
              "    }\n",
              "  </style>\n",
              "\n",
              "    <script>\n",
              "      const buttonEl =\n",
              "        document.querySelector('#df-1f83ed84-be6c-4a72-85f0-88041a01cc9c button.colab-df-convert');\n",
              "      buttonEl.style.display =\n",
              "        google.colab.kernel.accessAllowed ? 'block' : 'none';\n",
              "\n",
              "      async function convertToInteractive(key) {\n",
              "        const element = document.querySelector('#df-1f83ed84-be6c-4a72-85f0-88041a01cc9c');\n",
              "        const dataTable =\n",
              "          await google.colab.kernel.invokeFunction('convertToInteractive',\n",
              "                                                    [key], {});\n",
              "        if (!dataTable) return;\n",
              "\n",
              "        const docLinkHtml = 'Like what you see? Visit the ' +\n",
              "          '<a target=\"_blank\" href=https://colab.research.google.com/notebooks/data_table.ipynb>data table notebook</a>'\n",
              "          + ' to learn more about interactive tables.';\n",
              "        element.innerHTML = '';\n",
              "        dataTable['output_type'] = 'display_data';\n",
              "        await google.colab.output.renderOutput(dataTable, element);\n",
              "        const docLink = document.createElement('div');\n",
              "        docLink.innerHTML = docLinkHtml;\n",
              "        element.appendChild(docLink);\n",
              "      }\n",
              "    </script>\n",
              "  </div>\n",
              "\n",
              "\n",
              "<div id=\"df-752ac8c3-83e6-40a2-8b0a-2572d3dd7b8a\">\n",
              "  <button class=\"colab-df-quickchart\" onclick=\"quickchart('df-752ac8c3-83e6-40a2-8b0a-2572d3dd7b8a')\"\n",
              "            title=\"Suggest charts\"\n",
              "            style=\"display:none;\">\n",
              "\n",
              "<svg xmlns=\"http://www.w3.org/2000/svg\" height=\"24px\"viewBox=\"0 0 24 24\"\n",
              "     width=\"24px\">\n",
              "    <g>\n",
              "        <path d=\"M19 3H5c-1.1 0-2 .9-2 2v14c0 1.1.9 2 2 2h14c1.1 0 2-.9 2-2V5c0-1.1-.9-2-2-2zM9 17H7v-7h2v7zm4 0h-2V7h2v10zm4 0h-2v-4h2v4z\"/>\n",
              "    </g>\n",
              "</svg>\n",
              "  </button>\n",
              "\n",
              "<style>\n",
              "  .colab-df-quickchart {\n",
              "      --bg-color: #E8F0FE;\n",
              "      --fill-color: #1967D2;\n",
              "      --hover-bg-color: #E2EBFA;\n",
              "      --hover-fill-color: #174EA6;\n",
              "      --disabled-fill-color: #AAA;\n",
              "      --disabled-bg-color: #DDD;\n",
              "  }\n",
              "\n",
              "  [theme=dark] .colab-df-quickchart {\n",
              "      --bg-color: #3B4455;\n",
              "      --fill-color: #D2E3FC;\n",
              "      --hover-bg-color: #434B5C;\n",
              "      --hover-fill-color: #FFFFFF;\n",
              "      --disabled-bg-color: #3B4455;\n",
              "      --disabled-fill-color: #666;\n",
              "  }\n",
              "\n",
              "  .colab-df-quickchart {\n",
              "    background-color: var(--bg-color);\n",
              "    border: none;\n",
              "    border-radius: 50%;\n",
              "    cursor: pointer;\n",
              "    display: none;\n",
              "    fill: var(--fill-color);\n",
              "    height: 32px;\n",
              "    padding: 0;\n",
              "    width: 32px;\n",
              "  }\n",
              "\n",
              "  .colab-df-quickchart:hover {\n",
              "    background-color: var(--hover-bg-color);\n",
              "    box-shadow: 0 1px 2px rgba(60, 64, 67, 0.3), 0 1px 3px 1px rgba(60, 64, 67, 0.15);\n",
              "    fill: var(--button-hover-fill-color);\n",
              "  }\n",
              "\n",
              "  .colab-df-quickchart-complete:disabled,\n",
              "  .colab-df-quickchart-complete:disabled:hover {\n",
              "    background-color: var(--disabled-bg-color);\n",
              "    fill: var(--disabled-fill-color);\n",
              "    box-shadow: none;\n",
              "  }\n",
              "\n",
              "  .colab-df-spinner {\n",
              "    border: 2px solid var(--fill-color);\n",
              "    border-color: transparent;\n",
              "    border-bottom-color: var(--fill-color);\n",
              "    animation:\n",
              "      spin 1s steps(1) infinite;\n",
              "  }\n",
              "\n",
              "  @keyframes spin {\n",
              "    0% {\n",
              "      border-color: transparent;\n",
              "      border-bottom-color: var(--fill-color);\n",
              "      border-left-color: var(--fill-color);\n",
              "    }\n",
              "    20% {\n",
              "      border-color: transparent;\n",
              "      border-left-color: var(--fill-color);\n",
              "      border-top-color: var(--fill-color);\n",
              "    }\n",
              "    30% {\n",
              "      border-color: transparent;\n",
              "      border-left-color: var(--fill-color);\n",
              "      border-top-color: var(--fill-color);\n",
              "      border-right-color: var(--fill-color);\n",
              "    }\n",
              "    40% {\n",
              "      border-color: transparent;\n",
              "      border-right-color: var(--fill-color);\n",
              "      border-top-color: var(--fill-color);\n",
              "    }\n",
              "    60% {\n",
              "      border-color: transparent;\n",
              "      border-right-color: var(--fill-color);\n",
              "    }\n",
              "    80% {\n",
              "      border-color: transparent;\n",
              "      border-right-color: var(--fill-color);\n",
              "      border-bottom-color: var(--fill-color);\n",
              "    }\n",
              "    90% {\n",
              "      border-color: transparent;\n",
              "      border-bottom-color: var(--fill-color);\n",
              "    }\n",
              "  }\n",
              "</style>\n",
              "\n",
              "  <script>\n",
              "    async function quickchart(key) {\n",
              "      const quickchartButtonEl =\n",
              "        document.querySelector('#' + key + ' button');\n",
              "      quickchartButtonEl.disabled = true;  // To prevent multiple clicks.\n",
              "      quickchartButtonEl.classList.add('colab-df-spinner');\n",
              "      try {\n",
              "        const charts = await google.colab.kernel.invokeFunction(\n",
              "            'suggestCharts', [key], {});\n",
              "      } catch (error) {\n",
              "        console.error('Error during call to suggestCharts:', error);\n",
              "      }\n",
              "      quickchartButtonEl.classList.remove('colab-df-spinner');\n",
              "      quickchartButtonEl.classList.add('colab-df-quickchart-complete');\n",
              "    }\n",
              "    (() => {\n",
              "      let quickchartButtonEl =\n",
              "        document.querySelector('#df-752ac8c3-83e6-40a2-8b0a-2572d3dd7b8a button');\n",
              "      quickchartButtonEl.style.display =\n",
              "        google.colab.kernel.accessAllowed ? 'block' : 'none';\n",
              "    })();\n",
              "  </script>\n",
              "</div>\n",
              "    </div>\n",
              "  </div>\n"
            ],
            "application/vnd.google.colaboratory.intrinsic+json": {
              "type": "dataframe",
              "variable_name": "city_day_frame",
              "summary": "{\n  \"name\": \"city_day_frame\",\n  \"rows\": 2,\n  \"fields\": [\n    {\n      \"column\": \"city\",\n      \"properties\": {\n        \"dtype\": \"string\",\n        \"num_unique_values\": 2,\n        \"samples\": [\n          \"Saint-Petersburg\",\n          \"Moscow\"\n        ],\n        \"semantic_type\": \"\",\n        \"description\": \"\"\n      }\n    },\n    {\n      \"column\": \"monday\",\n      \"properties\": {\n        \"dtype\": \"number\",\n        \"std\": 6949,\n        \"min\": 5519,\n        \"max\": 15347,\n        \"num_unique_values\": 2,\n        \"samples\": [\n          5519,\n          15347\n        ],\n        \"semantic_type\": \"\",\n        \"description\": \"\"\n      }\n    },\n    {\n      \"column\": \"wednesday\",\n      \"properties\": {\n        \"dtype\": \"number\",\n        \"std\": 2794,\n        \"min\": 6913,\n        \"max\": 10865,\n        \"num_unique_values\": 2,\n        \"samples\": [\n          6913,\n          10865\n        ],\n        \"semantic_type\": \"\",\n        \"description\": \"\"\n      }\n    },\n    {\n      \"column\": \"friday\",\n      \"properties\": {\n        \"dtype\": \"number\",\n        \"std\": 6984,\n        \"min\": 5802,\n        \"max\": 15680,\n        \"num_unique_values\": 2,\n        \"samples\": [\n          5802,\n          15680\n        ],\n        \"semantic_type\": \"\",\n        \"description\": \"\"\n      }\n    }\n  ]\n}"
            }
          },
          "metadata": {},
          "execution_count": 29
        }
      ],
      "source": [
        "# <таблица с полученными данными>\n",
        "city_day_frame = pd.DataFrame(\n",
        "    {'city': ['Moscow', 'Saint-Petersburg'],\n",
        "     'monday': [number_tracks(df, 'Monday', 'Moscow'), number_tracks(df, 'Monday', 'Saint-Petersburg')],\n",
        "     'wednesday': [number_tracks(df, 'Wednesday', 'Moscow'), number_tracks(df, 'Wednesday', 'Saint-Petersburg')],\n",
        "     'friday': [number_tracks(df, 'Friday', 'Moscow'), number_tracks(df, 'Friday', 'Saint-Petersburg')]}\n",
        ")\n",
        "city_day_frame.head()"
      ]
    },
    {
      "cell_type": "markdown",
      "metadata": {
        "id": "klhQqxNJMeAW"
      },
      "source": [
        "## Вывод\n",
        "\n",
        "*Запишите здесь ваши выводы.Опишите закономерности, которые вы наблюдаете по дням недели и городам*"
      ]
    },
    {
      "cell_type": "markdown",
      "metadata": {
        "id": "yfQFSyuXMeAW"
      },
      "source": [
        "# Утро понедельника и вечер пятницы — разная музыка или одна и та же?\n",
        "\n",
        "Ищем ответ на вопрос, какие жанры преобладают в разных городах в понедельник утром и в пятницу вечером. Есть предположение, что в понедельник утром пользователи слушают больше бодрящей музыки (например, жанра поп), а вечером пятницы — больше танцевальных (например, электронику).\n",
        "Получим таблицы данных по Москве moscow_general и по Санкт-Петербургу spb_general.\n"
      ]
    },
    {
      "cell_type": "code",
      "execution_count": null,
      "metadata": {
        "colab": {
          "base_uri": "https://localhost:8080/",
          "height": 363
        },
        "id": "TVNVE0efMeAW",
        "outputId": "e3abca86-f581-429e-d23d-536e4ca95e55"
      },
      "outputs": [
        {
          "output_type": "execute_result",
          "data": {
            "text/plain": [
              "     user_id                  track_name        artist_name   genre_name  \\\n",
              "0   FFB692EC           Kamigata To Boots   The Mass Missile         rock   \n",
              "2     20EC38           Funiculì funiculà        Mario Lanza          pop   \n",
              "3   A3DD03C9       Dragons in the Sunset         Fire + Ice         folk   \n",
              "5   842029A1                   Преданная          IMPERVTOR       rusrap   \n",
              "9   E772D5C0                   Pessimist            unknown        dance   \n",
              "14  94EB25C2  Make Love Whenever You Can          Arabesque          pop   \n",
              "16  81D05C7D              SLAVES OF FEAR             HEALTH  alternative   \n",
              "17  39DE290E                    Веснянка      Веданъ Колодъ         folk   \n",
              "18  58AE138A                  Pat-a-Cake  Mother Goose Club     children   \n",
              "22  B8E29C9C                      Самота            unknown         folk   \n",
              "\n",
              "                city total_play_seconds        day  \n",
              "0   Saint-Petersburg           20:28:33  Wednesday  \n",
              "2   Saint-Petersburg           20:58:07  Wednesday  \n",
              "3   Saint-Petersburg           08:37:09     Monday  \n",
              "5   Saint-Petersburg           13:09:41     Friday  \n",
              "9   Saint-Petersburg           21:20:49  Wednesday  \n",
              "14  Saint-Petersburg           13:22:08  Wednesday  \n",
              "16  Saint-Petersburg           20:54:48     Monday  \n",
              "17  Saint-Petersburg           14:36:47     Monday  \n",
              "18  Saint-Petersburg           20:04:56     Monday  \n",
              "22  Saint-Petersburg           20:20:49  Wednesday  "
            ],
            "text/html": [
              "\n",
              "  <div id=\"df-44b29f17-9fc8-41fc-b81f-8794fce71898\" class=\"colab-df-container\">\n",
              "    <div>\n",
              "<style scoped>\n",
              "    .dataframe tbody tr th:only-of-type {\n",
              "        vertical-align: middle;\n",
              "    }\n",
              "\n",
              "    .dataframe tbody tr th {\n",
              "        vertical-align: top;\n",
              "    }\n",
              "\n",
              "    .dataframe thead th {\n",
              "        text-align: right;\n",
              "    }\n",
              "</style>\n",
              "<table border=\"1\" class=\"dataframe\">\n",
              "  <thead>\n",
              "    <tr style=\"text-align: right;\">\n",
              "      <th></th>\n",
              "      <th>user_id</th>\n",
              "      <th>track_name</th>\n",
              "      <th>artist_name</th>\n",
              "      <th>genre_name</th>\n",
              "      <th>city</th>\n",
              "      <th>total_play_seconds</th>\n",
              "      <th>day</th>\n",
              "    </tr>\n",
              "  </thead>\n",
              "  <tbody>\n",
              "    <tr>\n",
              "      <th>0</th>\n",
              "      <td>FFB692EC</td>\n",
              "      <td>Kamigata To Boots</td>\n",
              "      <td>The Mass Missile</td>\n",
              "      <td>rock</td>\n",
              "      <td>Saint-Petersburg</td>\n",
              "      <td>20:28:33</td>\n",
              "      <td>Wednesday</td>\n",
              "    </tr>\n",
              "    <tr>\n",
              "      <th>2</th>\n",
              "      <td>20EC38</td>\n",
              "      <td>Funiculì funiculà</td>\n",
              "      <td>Mario Lanza</td>\n",
              "      <td>pop</td>\n",
              "      <td>Saint-Petersburg</td>\n",
              "      <td>20:58:07</td>\n",
              "      <td>Wednesday</td>\n",
              "    </tr>\n",
              "    <tr>\n",
              "      <th>3</th>\n",
              "      <td>A3DD03C9</td>\n",
              "      <td>Dragons in the Sunset</td>\n",
              "      <td>Fire + Ice</td>\n",
              "      <td>folk</td>\n",
              "      <td>Saint-Petersburg</td>\n",
              "      <td>08:37:09</td>\n",
              "      <td>Monday</td>\n",
              "    </tr>\n",
              "    <tr>\n",
              "      <th>5</th>\n",
              "      <td>842029A1</td>\n",
              "      <td>Преданная</td>\n",
              "      <td>IMPERVTOR</td>\n",
              "      <td>rusrap</td>\n",
              "      <td>Saint-Petersburg</td>\n",
              "      <td>13:09:41</td>\n",
              "      <td>Friday</td>\n",
              "    </tr>\n",
              "    <tr>\n",
              "      <th>9</th>\n",
              "      <td>E772D5C0</td>\n",
              "      <td>Pessimist</td>\n",
              "      <td>unknown</td>\n",
              "      <td>dance</td>\n",
              "      <td>Saint-Petersburg</td>\n",
              "      <td>21:20:49</td>\n",
              "      <td>Wednesday</td>\n",
              "    </tr>\n",
              "    <tr>\n",
              "      <th>14</th>\n",
              "      <td>94EB25C2</td>\n",
              "      <td>Make Love Whenever You Can</td>\n",
              "      <td>Arabesque</td>\n",
              "      <td>pop</td>\n",
              "      <td>Saint-Petersburg</td>\n",
              "      <td>13:22:08</td>\n",
              "      <td>Wednesday</td>\n",
              "    </tr>\n",
              "    <tr>\n",
              "      <th>16</th>\n",
              "      <td>81D05C7D</td>\n",
              "      <td>SLAVES OF FEAR</td>\n",
              "      <td>HEALTH</td>\n",
              "      <td>alternative</td>\n",
              "      <td>Saint-Petersburg</td>\n",
              "      <td>20:54:48</td>\n",
              "      <td>Monday</td>\n",
              "    </tr>\n",
              "    <tr>\n",
              "      <th>17</th>\n",
              "      <td>39DE290E</td>\n",
              "      <td>Веснянка</td>\n",
              "      <td>Веданъ Колодъ</td>\n",
              "      <td>folk</td>\n",
              "      <td>Saint-Petersburg</td>\n",
              "      <td>14:36:47</td>\n",
              "      <td>Monday</td>\n",
              "    </tr>\n",
              "    <tr>\n",
              "      <th>18</th>\n",
              "      <td>58AE138A</td>\n",
              "      <td>Pat-a-Cake</td>\n",
              "      <td>Mother Goose Club</td>\n",
              "      <td>children</td>\n",
              "      <td>Saint-Petersburg</td>\n",
              "      <td>20:04:56</td>\n",
              "      <td>Monday</td>\n",
              "    </tr>\n",
              "    <tr>\n",
              "      <th>22</th>\n",
              "      <td>B8E29C9C</td>\n",
              "      <td>Самота</td>\n",
              "      <td>unknown</td>\n",
              "      <td>folk</td>\n",
              "      <td>Saint-Petersburg</td>\n",
              "      <td>20:20:49</td>\n",
              "      <td>Wednesday</td>\n",
              "    </tr>\n",
              "  </tbody>\n",
              "</table>\n",
              "</div>\n",
              "    <div class=\"colab-df-buttons\">\n",
              "\n",
              "  <div class=\"colab-df-container\">\n",
              "    <button class=\"colab-df-convert\" onclick=\"convertToInteractive('df-44b29f17-9fc8-41fc-b81f-8794fce71898')\"\n",
              "            title=\"Convert this dataframe to an interactive table.\"\n",
              "            style=\"display:none;\">\n",
              "\n",
              "  <svg xmlns=\"http://www.w3.org/2000/svg\" height=\"24px\" viewBox=\"0 -960 960 960\">\n",
              "    <path d=\"M120-120v-720h720v720H120Zm60-500h600v-160H180v160Zm220 220h160v-160H400v160Zm0 220h160v-160H400v160ZM180-400h160v-160H180v160Zm440 0h160v-160H620v160ZM180-180h160v-160H180v160Zm440 0h160v-160H620v160Z\"/>\n",
              "  </svg>\n",
              "    </button>\n",
              "\n",
              "  <style>\n",
              "    .colab-df-container {\n",
              "      display:flex;\n",
              "      gap: 12px;\n",
              "    }\n",
              "\n",
              "    .colab-df-convert {\n",
              "      background-color: #E8F0FE;\n",
              "      border: none;\n",
              "      border-radius: 50%;\n",
              "      cursor: pointer;\n",
              "      display: none;\n",
              "      fill: #1967D2;\n",
              "      height: 32px;\n",
              "      padding: 0 0 0 0;\n",
              "      width: 32px;\n",
              "    }\n",
              "\n",
              "    .colab-df-convert:hover {\n",
              "      background-color: #E2EBFA;\n",
              "      box-shadow: 0px 1px 2px rgba(60, 64, 67, 0.3), 0px 1px 3px 1px rgba(60, 64, 67, 0.15);\n",
              "      fill: #174EA6;\n",
              "    }\n",
              "\n",
              "    .colab-df-buttons div {\n",
              "      margin-bottom: 4px;\n",
              "    }\n",
              "\n",
              "    [theme=dark] .colab-df-convert {\n",
              "      background-color: #3B4455;\n",
              "      fill: #D2E3FC;\n",
              "    }\n",
              "\n",
              "    [theme=dark] .colab-df-convert:hover {\n",
              "      background-color: #434B5C;\n",
              "      box-shadow: 0px 1px 3px 1px rgba(0, 0, 0, 0.15);\n",
              "      filter: drop-shadow(0px 1px 2px rgba(0, 0, 0, 0.3));\n",
              "      fill: #FFFFFF;\n",
              "    }\n",
              "  </style>\n",
              "\n",
              "    <script>\n",
              "      const buttonEl =\n",
              "        document.querySelector('#df-44b29f17-9fc8-41fc-b81f-8794fce71898 button.colab-df-convert');\n",
              "      buttonEl.style.display =\n",
              "        google.colab.kernel.accessAllowed ? 'block' : 'none';\n",
              "\n",
              "      async function convertToInteractive(key) {\n",
              "        const element = document.querySelector('#df-44b29f17-9fc8-41fc-b81f-8794fce71898');\n",
              "        const dataTable =\n",
              "          await google.colab.kernel.invokeFunction('convertToInteractive',\n",
              "                                                    [key], {});\n",
              "        if (!dataTable) return;\n",
              "\n",
              "        const docLinkHtml = 'Like what you see? Visit the ' +\n",
              "          '<a target=\"_blank\" href=https://colab.research.google.com/notebooks/data_table.ipynb>data table notebook</a>'\n",
              "          + ' to learn more about interactive tables.';\n",
              "        element.innerHTML = '';\n",
              "        dataTable['output_type'] = 'display_data';\n",
              "        await google.colab.output.renderOutput(dataTable, element);\n",
              "        const docLink = document.createElement('div');\n",
              "        docLink.innerHTML = docLinkHtml;\n",
              "        element.appendChild(docLink);\n",
              "      }\n",
              "    </script>\n",
              "  </div>\n",
              "\n",
              "\n",
              "<div id=\"df-50c20e67-e747-4f37-beed-357a0e78d2a5\">\n",
              "  <button class=\"colab-df-quickchart\" onclick=\"quickchart('df-50c20e67-e747-4f37-beed-357a0e78d2a5')\"\n",
              "            title=\"Suggest charts\"\n",
              "            style=\"display:none;\">\n",
              "\n",
              "<svg xmlns=\"http://www.w3.org/2000/svg\" height=\"24px\"viewBox=\"0 0 24 24\"\n",
              "     width=\"24px\">\n",
              "    <g>\n",
              "        <path d=\"M19 3H5c-1.1 0-2 .9-2 2v14c0 1.1.9 2 2 2h14c1.1 0 2-.9 2-2V5c0-1.1-.9-2-2-2zM9 17H7v-7h2v7zm4 0h-2V7h2v10zm4 0h-2v-4h2v4z\"/>\n",
              "    </g>\n",
              "</svg>\n",
              "  </button>\n",
              "\n",
              "<style>\n",
              "  .colab-df-quickchart {\n",
              "      --bg-color: #E8F0FE;\n",
              "      --fill-color: #1967D2;\n",
              "      --hover-bg-color: #E2EBFA;\n",
              "      --hover-fill-color: #174EA6;\n",
              "      --disabled-fill-color: #AAA;\n",
              "      --disabled-bg-color: #DDD;\n",
              "  }\n",
              "\n",
              "  [theme=dark] .colab-df-quickchart {\n",
              "      --bg-color: #3B4455;\n",
              "      --fill-color: #D2E3FC;\n",
              "      --hover-bg-color: #434B5C;\n",
              "      --hover-fill-color: #FFFFFF;\n",
              "      --disabled-bg-color: #3B4455;\n",
              "      --disabled-fill-color: #666;\n",
              "  }\n",
              "\n",
              "  .colab-df-quickchart {\n",
              "    background-color: var(--bg-color);\n",
              "    border: none;\n",
              "    border-radius: 50%;\n",
              "    cursor: pointer;\n",
              "    display: none;\n",
              "    fill: var(--fill-color);\n",
              "    height: 32px;\n",
              "    padding: 0;\n",
              "    width: 32px;\n",
              "  }\n",
              "\n",
              "  .colab-df-quickchart:hover {\n",
              "    background-color: var(--hover-bg-color);\n",
              "    box-shadow: 0 1px 2px rgba(60, 64, 67, 0.3), 0 1px 3px 1px rgba(60, 64, 67, 0.15);\n",
              "    fill: var(--button-hover-fill-color);\n",
              "  }\n",
              "\n",
              "  .colab-df-quickchart-complete:disabled,\n",
              "  .colab-df-quickchart-complete:disabled:hover {\n",
              "    background-color: var(--disabled-bg-color);\n",
              "    fill: var(--disabled-fill-color);\n",
              "    box-shadow: none;\n",
              "  }\n",
              "\n",
              "  .colab-df-spinner {\n",
              "    border: 2px solid var(--fill-color);\n",
              "    border-color: transparent;\n",
              "    border-bottom-color: var(--fill-color);\n",
              "    animation:\n",
              "      spin 1s steps(1) infinite;\n",
              "  }\n",
              "\n",
              "  @keyframes spin {\n",
              "    0% {\n",
              "      border-color: transparent;\n",
              "      border-bottom-color: var(--fill-color);\n",
              "      border-left-color: var(--fill-color);\n",
              "    }\n",
              "    20% {\n",
              "      border-color: transparent;\n",
              "      border-left-color: var(--fill-color);\n",
              "      border-top-color: var(--fill-color);\n",
              "    }\n",
              "    30% {\n",
              "      border-color: transparent;\n",
              "      border-left-color: var(--fill-color);\n",
              "      border-top-color: var(--fill-color);\n",
              "      border-right-color: var(--fill-color);\n",
              "    }\n",
              "    40% {\n",
              "      border-color: transparent;\n",
              "      border-right-color: var(--fill-color);\n",
              "      border-top-color: var(--fill-color);\n",
              "    }\n",
              "    60% {\n",
              "      border-color: transparent;\n",
              "      border-right-color: var(--fill-color);\n",
              "    }\n",
              "    80% {\n",
              "      border-color: transparent;\n",
              "      border-right-color: var(--fill-color);\n",
              "      border-bottom-color: var(--fill-color);\n",
              "    }\n",
              "    90% {\n",
              "      border-color: transparent;\n",
              "      border-bottom-color: var(--fill-color);\n",
              "    }\n",
              "  }\n",
              "</style>\n",
              "\n",
              "  <script>\n",
              "    async function quickchart(key) {\n",
              "      const quickchartButtonEl =\n",
              "        document.querySelector('#' + key + ' button');\n",
              "      quickchartButtonEl.disabled = true;  // To prevent multiple clicks.\n",
              "      quickchartButtonEl.classList.add('colab-df-spinner');\n",
              "      try {\n",
              "        const charts = await google.colab.kernel.invokeFunction(\n",
              "            'suggestCharts', [key], {});\n",
              "      } catch (error) {\n",
              "        console.error('Error during call to suggestCharts:', error);\n",
              "      }\n",
              "      quickchartButtonEl.classList.remove('colab-df-spinner');\n",
              "      quickchartButtonEl.classList.add('colab-df-quickchart-complete');\n",
              "    }\n",
              "    (() => {\n",
              "      let quickchartButtonEl =\n",
              "        document.querySelector('#df-50c20e67-e747-4f37-beed-357a0e78d2a5 button');\n",
              "      quickchartButtonEl.style.display =\n",
              "        google.colab.kernel.accessAllowed ? 'block' : 'none';\n",
              "    })();\n",
              "  </script>\n",
              "</div>\n",
              "    </div>\n",
              "  </div>\n"
            ],
            "application/vnd.google.colaboratory.intrinsic+json": {
              "type": "dataframe",
              "variable_name": "spb_general",
              "summary": "{\n  \"name\": \"spb_general\",\n  \"rows\": 18234,\n  \"fields\": [\n    {\n      \"column\": \"user_id\",\n      \"properties\": {\n        \"dtype\": \"string\",\n        \"num_unique_values\": 12305,\n        \"samples\": [\n          \"ADCAAA4C\",\n          \"F0F48477\",\n          \"752C2701\"\n        ],\n        \"semantic_type\": \"\",\n        \"description\": \"\"\n      }\n    },\n    {\n      \"column\": \"track_name\",\n      \"properties\": {\n        \"dtype\": \"string\",\n        \"num_unique_values\": 16075,\n        \"samples\": [\n          \"Peanut Dreams\",\n          \"ATD\",\n          \"\\u041f\\u0440\\u0435\\u043b\\u044e\\u0434\\u0438\\u044f \\u041c\\u0438 \\u043c\\u0438\\u043d\\u043e\\u0440 Op.28:No.4\"\n        ],\n        \"semantic_type\": \"\",\n        \"description\": \"\"\n      }\n    },\n    {\n      \"column\": \"artist_name\",\n      \"properties\": {\n        \"dtype\": \"string\",\n        \"num_unique_values\": 15108,\n        \"samples\": [\n          \"Derek Pope\",\n          \"Zorro - Original London Cast\",\n          \"CHVRN\"\n        ],\n        \"semantic_type\": \"\",\n        \"description\": \"\"\n      }\n    },\n    {\n      \"column\": \"genre_name\",\n      \"properties\": {\n        \"dtype\": \"category\",\n        \"num_unique_values\": 210,\n        \"samples\": [\n          \"soul\",\n          \"international\",\n          \"chanson\"\n        ],\n        \"semantic_type\": \"\",\n        \"description\": \"\"\n      }\n    },\n    {\n      \"column\": \"city\",\n      \"properties\": {\n        \"dtype\": \"category\",\n        \"num_unique_values\": 1,\n        \"samples\": [\n          \"Saint-Petersburg\"\n        ],\n        \"semantic_type\": \"\",\n        \"description\": \"\"\n      }\n    },\n    {\n      \"column\": \"total_play_seconds\",\n      \"properties\": {\n        \"dtype\": \"object\",\n        \"num_unique_values\": 12263,\n        \"samples\": [\n          \"14:18:51\"\n        ],\n        \"semantic_type\": \"\",\n        \"description\": \"\"\n      }\n    },\n    {\n      \"column\": \"day\",\n      \"properties\": {\n        \"dtype\": \"category\",\n        \"num_unique_values\": 3,\n        \"samples\": [\n          \"Wednesday\"\n        ],\n        \"semantic_type\": \"\",\n        \"description\": \"\"\n      }\n    }\n  ]\n}"
            }
          },
          "metadata": {},
          "execution_count": 30
        }
      ],
      "source": [
        "# получение таблицы moscow_general из тех строк таблицы df,\n",
        "# для которых значение в столбце 'city' равно 'Moscow'\n",
        "moscow_general = df[ df['city'] == 'Moscow']\n",
        "moscow_general.head(10)\n",
        "# <получение таблицы spb_general>\n",
        "spb_general = df[ df['city'] == 'Saint-Petersburg']\n",
        "spb_general.head(10)"
      ]
    },
    {
      "cell_type": "markdown",
      "metadata": {
        "id": "b3kWbgSsMeAW"
      },
      "source": [
        "Создаём функцию genre_weekday(), которая возвращает список жанров по запрошенному дню недели и времени суток с такого-то часа по такой-то."
      ]
    },
    {
      "cell_type": "code",
      "execution_count": null,
      "metadata": {
        "id": "aRFbw7uyMeAW"
      },
      "outputs": [],
      "source": [
        "# объявление функции genre_weekday() с параметрами df, day, time1, time2\n",
        "# в переменной genre_list сохраняются те строки df, для которых одновременно:\n",
        "# 1) значение в столбце 'weekday' равно параметру day,\n",
        "# 2) значение в столбце 'time' больше time1 и\n",
        "# 3) меньше time2.\n",
        "# в переменной genre_list_sorted сохраняются в порядке убывания\n",
        "# первые 10 значений Series, полученной подсчётом числа значений 'genre_name'\n",
        "# сгруппированной по столбцу 'genre_name' таблицы genre_list\n",
        "# функция возвращает значение genre_list_sorted\n",
        "def genre_weekday(df, day, time1, time2):\n",
        "    genre_list = df[ (df['day'] == day) & (df['total_play_seconds'] > time1) & (df['total_play_seconds'] < time2) ]\n",
        "    genre_list_sorted = genre_list.groupby('genre_name')['genre_name'].count().sort_values(ascending = False)\n",
        "    genre_list_sorted = genre_list_sorted.head(10)\n",
        "    return genre_list_sorted"
      ]
    },
    {
      "cell_type": "markdown",
      "metadata": {
        "id": "PFyK3ofnMeAX"
      },
      "source": [
        "Cравниваем полученные результаты по таблице для Москвы и Санкт-Петербурга в понедельник утром (с 7 до 11) и в пятницу вечером (с 17 до 23)."
      ]
    },
    {
      "cell_type": "code",
      "execution_count": null,
      "metadata": {
        "colab": {
          "base_uri": "https://localhost:8080/",
          "height": 429
        },
        "id": "jyDrOrIYMeAX",
        "outputId": "d64c939d-958e-4a2b-af5b-f7c7042f29a9"
      },
      "outputs": [
        {
          "output_type": "execute_result",
          "data": {
            "text/plain": [
              "genre_name\n",
              "pop            781\n",
              "dance          549\n",
              "electronic     480\n",
              "rock           474\n",
              "hiphop         286\n",
              "ruspop         186\n",
              "world          181\n",
              "rusrap         175\n",
              "alternative    164\n",
              "classical      157\n",
              "Name: genre_name, dtype: int64"
            ],
            "text/html": [
              "<div>\n",
              "<style scoped>\n",
              "    .dataframe tbody tr th:only-of-type {\n",
              "        vertical-align: middle;\n",
              "    }\n",
              "\n",
              "    .dataframe tbody tr th {\n",
              "        vertical-align: top;\n",
              "    }\n",
              "\n",
              "    .dataframe thead th {\n",
              "        text-align: right;\n",
              "    }\n",
              "</style>\n",
              "<table border=\"1\" class=\"dataframe\">\n",
              "  <thead>\n",
              "    <tr style=\"text-align: right;\">\n",
              "      <th></th>\n",
              "      <th>genre_name</th>\n",
              "    </tr>\n",
              "    <tr>\n",
              "      <th>genre_name</th>\n",
              "      <th></th>\n",
              "    </tr>\n",
              "  </thead>\n",
              "  <tbody>\n",
              "    <tr>\n",
              "      <th>pop</th>\n",
              "      <td>781</td>\n",
              "    </tr>\n",
              "    <tr>\n",
              "      <th>dance</th>\n",
              "      <td>549</td>\n",
              "    </tr>\n",
              "    <tr>\n",
              "      <th>electronic</th>\n",
              "      <td>480</td>\n",
              "    </tr>\n",
              "    <tr>\n",
              "      <th>rock</th>\n",
              "      <td>474</td>\n",
              "    </tr>\n",
              "    <tr>\n",
              "      <th>hiphop</th>\n",
              "      <td>286</td>\n",
              "    </tr>\n",
              "    <tr>\n",
              "      <th>ruspop</th>\n",
              "      <td>186</td>\n",
              "    </tr>\n",
              "    <tr>\n",
              "      <th>world</th>\n",
              "      <td>181</td>\n",
              "    </tr>\n",
              "    <tr>\n",
              "      <th>rusrap</th>\n",
              "      <td>175</td>\n",
              "    </tr>\n",
              "    <tr>\n",
              "      <th>alternative</th>\n",
              "      <td>164</td>\n",
              "    </tr>\n",
              "    <tr>\n",
              "      <th>classical</th>\n",
              "      <td>157</td>\n",
              "    </tr>\n",
              "  </tbody>\n",
              "</table>\n",
              "</div><br><label><b>dtype:</b> int64</label>"
            ]
          },
          "metadata": {},
          "execution_count": 32
        }
      ],
      "source": [
        "# <вызов функции для утра понедельника в Москве (вместо df таблица moscow_general)>\n",
        "genre_weekday(moscow_general, 'Monday', '07:00:00', '11:00:00')"
      ]
    },
    {
      "cell_type": "code",
      "execution_count": null,
      "metadata": {
        "colab": {
          "base_uri": "https://localhost:8080/",
          "height": 429
        },
        "id": "807PzO0pMeAX",
        "outputId": "794aa535-9ae6-43f7-efee-37a091d0ca08"
      },
      "outputs": [
        {
          "output_type": "execute_result",
          "data": {
            "text/plain": [
              "genre_name\n",
              "pop            218\n",
              "dance          182\n",
              "rock           162\n",
              "electronic     147\n",
              "hiphop          80\n",
              "ruspop          64\n",
              "alternative     58\n",
              "rusrap          55\n",
              "jazz            44\n",
              "classical       40\n",
              "Name: genre_name, dtype: int64"
            ],
            "text/html": [
              "<div>\n",
              "<style scoped>\n",
              "    .dataframe tbody tr th:only-of-type {\n",
              "        vertical-align: middle;\n",
              "    }\n",
              "\n",
              "    .dataframe tbody tr th {\n",
              "        vertical-align: top;\n",
              "    }\n",
              "\n",
              "    .dataframe thead th {\n",
              "        text-align: right;\n",
              "    }\n",
              "</style>\n",
              "<table border=\"1\" class=\"dataframe\">\n",
              "  <thead>\n",
              "    <tr style=\"text-align: right;\">\n",
              "      <th></th>\n",
              "      <th>genre_name</th>\n",
              "    </tr>\n",
              "    <tr>\n",
              "      <th>genre_name</th>\n",
              "      <th></th>\n",
              "    </tr>\n",
              "  </thead>\n",
              "  <tbody>\n",
              "    <tr>\n",
              "      <th>pop</th>\n",
              "      <td>218</td>\n",
              "    </tr>\n",
              "    <tr>\n",
              "      <th>dance</th>\n",
              "      <td>182</td>\n",
              "    </tr>\n",
              "    <tr>\n",
              "      <th>rock</th>\n",
              "      <td>162</td>\n",
              "    </tr>\n",
              "    <tr>\n",
              "      <th>electronic</th>\n",
              "      <td>147</td>\n",
              "    </tr>\n",
              "    <tr>\n",
              "      <th>hiphop</th>\n",
              "      <td>80</td>\n",
              "    </tr>\n",
              "    <tr>\n",
              "      <th>ruspop</th>\n",
              "      <td>64</td>\n",
              "    </tr>\n",
              "    <tr>\n",
              "      <th>alternative</th>\n",
              "      <td>58</td>\n",
              "    </tr>\n",
              "    <tr>\n",
              "      <th>rusrap</th>\n",
              "      <td>55</td>\n",
              "    </tr>\n",
              "    <tr>\n",
              "      <th>jazz</th>\n",
              "      <td>44</td>\n",
              "    </tr>\n",
              "    <tr>\n",
              "      <th>classical</th>\n",
              "      <td>40</td>\n",
              "    </tr>\n",
              "  </tbody>\n",
              "</table>\n",
              "</div><br><label><b>dtype:</b> int64</label>"
            ]
          },
          "metadata": {},
          "execution_count": 33
        }
      ],
      "source": [
        "# <вызов функции для утра понедельника в Петербурге (вместо df таблица spb_general)>\n",
        "genre_weekday(spb_general, 'Monday', '07:00:00', '11:00:00')"
      ]
    },
    {
      "cell_type": "code",
      "execution_count": null,
      "metadata": {
        "colab": {
          "base_uri": "https://localhost:8080/",
          "height": 429
        },
        "id": "ycRTvVThMeAX",
        "outputId": "a9c454a3-ce99-4cc0-886d-5576606549e5"
      },
      "outputs": [
        {
          "output_type": "execute_result",
          "data": {
            "text/plain": [
              "genre_name\n",
              "pop            713\n",
              "rock           517\n",
              "dance          495\n",
              "electronic     482\n",
              "hiphop         273\n",
              "world          208\n",
              "ruspop         170\n",
              "alternative    163\n",
              "classical      163\n",
              "rusrap         142\n",
              "Name: genre_name, dtype: int64"
            ],
            "text/html": [
              "<div>\n",
              "<style scoped>\n",
              "    .dataframe tbody tr th:only-of-type {\n",
              "        vertical-align: middle;\n",
              "    }\n",
              "\n",
              "    .dataframe tbody tr th {\n",
              "        vertical-align: top;\n",
              "    }\n",
              "\n",
              "    .dataframe thead th {\n",
              "        text-align: right;\n",
              "    }\n",
              "</style>\n",
              "<table border=\"1\" class=\"dataframe\">\n",
              "  <thead>\n",
              "    <tr style=\"text-align: right;\">\n",
              "      <th></th>\n",
              "      <th>genre_name</th>\n",
              "    </tr>\n",
              "    <tr>\n",
              "      <th>genre_name</th>\n",
              "      <th></th>\n",
              "    </tr>\n",
              "  </thead>\n",
              "  <tbody>\n",
              "    <tr>\n",
              "      <th>pop</th>\n",
              "      <td>713</td>\n",
              "    </tr>\n",
              "    <tr>\n",
              "      <th>rock</th>\n",
              "      <td>517</td>\n",
              "    </tr>\n",
              "    <tr>\n",
              "      <th>dance</th>\n",
              "      <td>495</td>\n",
              "    </tr>\n",
              "    <tr>\n",
              "      <th>electronic</th>\n",
              "      <td>482</td>\n",
              "    </tr>\n",
              "    <tr>\n",
              "      <th>hiphop</th>\n",
              "      <td>273</td>\n",
              "    </tr>\n",
              "    <tr>\n",
              "      <th>world</th>\n",
              "      <td>208</td>\n",
              "    </tr>\n",
              "    <tr>\n",
              "      <th>ruspop</th>\n",
              "      <td>170</td>\n",
              "    </tr>\n",
              "    <tr>\n",
              "      <th>alternative</th>\n",
              "      <td>163</td>\n",
              "    </tr>\n",
              "    <tr>\n",
              "      <th>classical</th>\n",
              "      <td>163</td>\n",
              "    </tr>\n",
              "    <tr>\n",
              "      <th>rusrap</th>\n",
              "      <td>142</td>\n",
              "    </tr>\n",
              "  </tbody>\n",
              "</table>\n",
              "</div><br><label><b>dtype:</b> int64</label>"
            ]
          },
          "metadata": {},
          "execution_count": 34
        }
      ],
      "source": [
        "# <вызов функции для вечера пятницы в Москве>\n",
        "genre_weekday(moscow_general, 'Friday', '17:00:00', '23:00:00')"
      ]
    },
    {
      "cell_type": "code",
      "execution_count": null,
      "metadata": {
        "colab": {
          "base_uri": "https://localhost:8080/",
          "height": 429
        },
        "id": "DSjVSn2qMeAX",
        "outputId": "bbfc72a1-aee7-433c-b2f8-74310659187a"
      },
      "outputs": [
        {
          "output_type": "execute_result",
          "data": {
            "text/plain": [
              "genre_name\n",
              "pop            256\n",
              "rock           216\n",
              "electronic     216\n",
              "dance          210\n",
              "hiphop          97\n",
              "alternative     63\n",
              "jazz            61\n",
              "classical       60\n",
              "rusrap          59\n",
              "world           54\n",
              "Name: genre_name, dtype: int64"
            ],
            "text/html": [
              "<div>\n",
              "<style scoped>\n",
              "    .dataframe tbody tr th:only-of-type {\n",
              "        vertical-align: middle;\n",
              "    }\n",
              "\n",
              "    .dataframe tbody tr th {\n",
              "        vertical-align: top;\n",
              "    }\n",
              "\n",
              "    .dataframe thead th {\n",
              "        text-align: right;\n",
              "    }\n",
              "</style>\n",
              "<table border=\"1\" class=\"dataframe\">\n",
              "  <thead>\n",
              "    <tr style=\"text-align: right;\">\n",
              "      <th></th>\n",
              "      <th>genre_name</th>\n",
              "    </tr>\n",
              "    <tr>\n",
              "      <th>genre_name</th>\n",
              "      <th></th>\n",
              "    </tr>\n",
              "  </thead>\n",
              "  <tbody>\n",
              "    <tr>\n",
              "      <th>pop</th>\n",
              "      <td>256</td>\n",
              "    </tr>\n",
              "    <tr>\n",
              "      <th>rock</th>\n",
              "      <td>216</td>\n",
              "    </tr>\n",
              "    <tr>\n",
              "      <th>electronic</th>\n",
              "      <td>216</td>\n",
              "    </tr>\n",
              "    <tr>\n",
              "      <th>dance</th>\n",
              "      <td>210</td>\n",
              "    </tr>\n",
              "    <tr>\n",
              "      <th>hiphop</th>\n",
              "      <td>97</td>\n",
              "    </tr>\n",
              "    <tr>\n",
              "      <th>alternative</th>\n",
              "      <td>63</td>\n",
              "    </tr>\n",
              "    <tr>\n",
              "      <th>jazz</th>\n",
              "      <td>61</td>\n",
              "    </tr>\n",
              "    <tr>\n",
              "      <th>classical</th>\n",
              "      <td>60</td>\n",
              "    </tr>\n",
              "    <tr>\n",
              "      <th>rusrap</th>\n",
              "      <td>59</td>\n",
              "    </tr>\n",
              "    <tr>\n",
              "      <th>world</th>\n",
              "      <td>54</td>\n",
              "    </tr>\n",
              "  </tbody>\n",
              "</table>\n",
              "</div><br><label><b>dtype:</b> int64</label>"
            ]
          },
          "metadata": {},
          "execution_count": 35
        }
      ],
      "source": [
        "# <вызов функции для вечера пятницы в Питере>\n",
        "genre_weekday(spb_general, 'Friday', '17:00:00', '23:00:00')"
      ]
    },
    {
      "cell_type": "markdown",
      "metadata": {
        "id": "mYD8HjeAMeAX"
      },
      "source": [
        "Популярные жанры в понедельник утром в Питере и Москве оказались похожи: везде, как и предполагалось, популярен *(вставьте сюда название жанра)*. Несмотря на это, концовка топ-10 для двух городов различается: в Питере в топ-10 входит джаз и русский рэп, а в Москве жанр world.\n",
        "\n",
        "*(Опишите здесь, меняется ли ситуация в музыкальными предпочтениями в конце недели, заметна ли разница в концовке ТОП-10)*\n",
        "\n",
        "## Вывод\n",
        "Жанр *(вставьте сюда название жанра)* безусловный лидер, а топ-5 в целом не различается в обеих столицах. При этом видно, что концовка списка более «живая»: для каждого города выделяются более характерные жанры, которые действительно меняют свои позиции в зависимости от дня недели и времени.\n"
      ]
    },
    {
      "cell_type": "markdown",
      "metadata": {
        "id": "CnyhsPI-MeAX"
      },
      "source": [
        "# Москва и Питер — две разные столицы, два разных направления в музыке. Правда?\n",
        "\n",
        "Гипотеза: Питер богат своей рэп-культурой, поэтому это направление там слушают чаще, а Москва — город контрастов, но основная масса пользователей слушает попсу.\n",
        "\n",
        "Сгруппируем таблицу moscow_general по жанру, сосчитаем численность композиций каждого жанра методом count(), отсортируем в порядке убывания и сохраним результат в таблице moscow_genres.\n",
        "\n",
        "Просмотрим первые 10 строк этой новой таблицы.\n"
      ]
    },
    {
      "cell_type": "code",
      "execution_count": null,
      "metadata": {
        "id": "AujB8Mh3MeAX"
      },
      "outputs": [],
      "source": [
        "# одной строкой: группировка таблицы moscow_general по столбцу 'genre_name',\n",
        "# подсчёт числа значений 'genre_name' в этой группировке методом count(),\n",
        "# сортировка Series в порядке убывания и сохранение в moscow_genres\n",
        "moscow_genres =  moscow_general.groupby('genre_name')['genre_name'].count().sort_values(ascending = False)"
      ]
    },
    {
      "cell_type": "code",
      "execution_count": null,
      "metadata": {
        "colab": {
          "base_uri": "https://localhost:8080/",
          "height": 429
        },
        "id": "kvgfxNKjMeAX",
        "outputId": "71c82f4d-4d13-4a05-a7fc-270eda61d0d7"
      },
      "outputs": [
        {
          "output_type": "execute_result",
          "data": {
            "text/plain": [
              "genre_name\n",
              "pop            5892\n",
              "dance          4435\n",
              "rock           3965\n",
              "electronic     3786\n",
              "hiphop         2096\n",
              "classical      1616\n",
              "world          1432\n",
              "alternative    1379\n",
              "ruspop         1372\n",
              "rusrap         1161\n",
              "Name: genre_name, dtype: int64"
            ],
            "text/html": [
              "<div>\n",
              "<style scoped>\n",
              "    .dataframe tbody tr th:only-of-type {\n",
              "        vertical-align: middle;\n",
              "    }\n",
              "\n",
              "    .dataframe tbody tr th {\n",
              "        vertical-align: top;\n",
              "    }\n",
              "\n",
              "    .dataframe thead th {\n",
              "        text-align: right;\n",
              "    }\n",
              "</style>\n",
              "<table border=\"1\" class=\"dataframe\">\n",
              "  <thead>\n",
              "    <tr style=\"text-align: right;\">\n",
              "      <th></th>\n",
              "      <th>genre_name</th>\n",
              "    </tr>\n",
              "    <tr>\n",
              "      <th>genre_name</th>\n",
              "      <th></th>\n",
              "    </tr>\n",
              "  </thead>\n",
              "  <tbody>\n",
              "    <tr>\n",
              "      <th>pop</th>\n",
              "      <td>5892</td>\n",
              "    </tr>\n",
              "    <tr>\n",
              "      <th>dance</th>\n",
              "      <td>4435</td>\n",
              "    </tr>\n",
              "    <tr>\n",
              "      <th>rock</th>\n",
              "      <td>3965</td>\n",
              "    </tr>\n",
              "    <tr>\n",
              "      <th>electronic</th>\n",
              "      <td>3786</td>\n",
              "    </tr>\n",
              "    <tr>\n",
              "      <th>hiphop</th>\n",
              "      <td>2096</td>\n",
              "    </tr>\n",
              "    <tr>\n",
              "      <th>classical</th>\n",
              "      <td>1616</td>\n",
              "    </tr>\n",
              "    <tr>\n",
              "      <th>world</th>\n",
              "      <td>1432</td>\n",
              "    </tr>\n",
              "    <tr>\n",
              "      <th>alternative</th>\n",
              "      <td>1379</td>\n",
              "    </tr>\n",
              "    <tr>\n",
              "      <th>ruspop</th>\n",
              "      <td>1372</td>\n",
              "    </tr>\n",
              "    <tr>\n",
              "      <th>rusrap</th>\n",
              "      <td>1161</td>\n",
              "    </tr>\n",
              "  </tbody>\n",
              "</table>\n",
              "</div><br><label><b>dtype:</b> int64</label>"
            ]
          },
          "metadata": {},
          "execution_count": 37
        }
      ],
      "source": [
        "# <просмотр первых 10 строк moscow_genres>\n",
        "moscow_genres.head(10)"
      ]
    },
    {
      "cell_type": "markdown",
      "metadata": {
        "id": "AMesj3R_MeAX"
      },
      "source": [
        "Сгруппируем таблицу spb_general по жанру, сосчитаем численность композиций каждого жанра методом count(), отсортируем в порядке убывания и сохраним результат в таблице spb_genres.\n",
        "\n",
        "Просматриваем первые 10 строк этой таблицы. Теперь можно сравнивать два города.\n"
      ]
    },
    {
      "cell_type": "code",
      "execution_count": null,
      "metadata": {
        "id": "_w0CINdKMeAX"
      },
      "outputs": [],
      "source": [
        "# <группировка таблицы spb_general, расчёт, сохранение в spb_genres>\n",
        "spb_genres =  spb_general.groupby('genre_name')['genre_name'].count().sort_values(ascending = False)"
      ]
    },
    {
      "cell_type": "code",
      "execution_count": null,
      "metadata": {
        "colab": {
          "base_uri": "https://localhost:8080/",
          "height": 429
        },
        "id": "2mWbDySwMeAY",
        "outputId": "32067d74-a1f0-4e33-9b6e-237e4e86003b"
      },
      "outputs": [
        {
          "output_type": "execute_result",
          "data": {
            "text/plain": [
              "genre_name\n",
              "pop            2431\n",
              "dance          1932\n",
              "rock           1879\n",
              "electronic     1736\n",
              "hiphop          960\n",
              "alternative     649\n",
              "classical       646\n",
              "rusrap          564\n",
              "ruspop          538\n",
              "world           515\n",
              "Name: genre_name, dtype: int64"
            ],
            "text/html": [
              "<div>\n",
              "<style scoped>\n",
              "    .dataframe tbody tr th:only-of-type {\n",
              "        vertical-align: middle;\n",
              "    }\n",
              "\n",
              "    .dataframe tbody tr th {\n",
              "        vertical-align: top;\n",
              "    }\n",
              "\n",
              "    .dataframe thead th {\n",
              "        text-align: right;\n",
              "    }\n",
              "</style>\n",
              "<table border=\"1\" class=\"dataframe\">\n",
              "  <thead>\n",
              "    <tr style=\"text-align: right;\">\n",
              "      <th></th>\n",
              "      <th>genre_name</th>\n",
              "    </tr>\n",
              "    <tr>\n",
              "      <th>genre_name</th>\n",
              "      <th></th>\n",
              "    </tr>\n",
              "  </thead>\n",
              "  <tbody>\n",
              "    <tr>\n",
              "      <th>pop</th>\n",
              "      <td>2431</td>\n",
              "    </tr>\n",
              "    <tr>\n",
              "      <th>dance</th>\n",
              "      <td>1932</td>\n",
              "    </tr>\n",
              "    <tr>\n",
              "      <th>rock</th>\n",
              "      <td>1879</td>\n",
              "    </tr>\n",
              "    <tr>\n",
              "      <th>electronic</th>\n",
              "      <td>1736</td>\n",
              "    </tr>\n",
              "    <tr>\n",
              "      <th>hiphop</th>\n",
              "      <td>960</td>\n",
              "    </tr>\n",
              "    <tr>\n",
              "      <th>alternative</th>\n",
              "      <td>649</td>\n",
              "    </tr>\n",
              "    <tr>\n",
              "      <th>classical</th>\n",
              "      <td>646</td>\n",
              "    </tr>\n",
              "    <tr>\n",
              "      <th>rusrap</th>\n",
              "      <td>564</td>\n",
              "    </tr>\n",
              "    <tr>\n",
              "      <th>ruspop</th>\n",
              "      <td>538</td>\n",
              "    </tr>\n",
              "    <tr>\n",
              "      <th>world</th>\n",
              "      <td>515</td>\n",
              "    </tr>\n",
              "  </tbody>\n",
              "</table>\n",
              "</div><br><label><b>dtype:</b> int64</label>"
            ]
          },
          "metadata": {},
          "execution_count": 39
        }
      ],
      "source": [
        "# <просмотр первых 10 строк spb_genres>\n",
        "spb_genres.head(10)"
      ]
    },
    {
      "cell_type": "markdown",
      "metadata": {
        "id": "8fzxqOHIMeAY"
      },
      "source": [
        "## Вывод\n",
        "В Москве, кроме абсолютно популярного жанра поп, есть направление русской популярной музыки. Значит, что интерес к этому жанру шире. А рэп, вопреки предположению, занимает в обоих городах близкие позиции.\n"
      ]
    },
    {
      "cell_type": "markdown",
      "metadata": {
        "id": "3uTVXIhEMeAY"
      },
      "source": [
        "# Результаты исследования\n",
        "\n",
        "Рабочие гипотезы:\n",
        "\n",
        "•\tмузыку в двух городах — Москве и Санкт-Петербурге — слушают в разном режиме;\n",
        "\n",
        "•\tсписки десяти самых популярных жанров утром в понедельник и вечером в пятницу имеют характерные отличия;\n",
        "\n",
        "•\tнаселение двух городов предпочитает разные музыкальные жанры.\n",
        "\n",
        "**Общие результаты**\n",
        "\n",
        "Москва и Петербург сходятся во вкусах: везде преобладает популярная музыка. При этом зависимости предпочтений от дня недели в каждом отдельном городе нет — люди постоянно слушают то, что им нравится. Но между городами в разрезе дней неделей наблюдается зеркальность относительно среды: Москва больше слушает в понедельник и пятницу, а Петербург наоборот - больше в среду, но меньше в понедельник и пятницу.\n",
        "В результате первая гипотеза *подтверждена / не подтверждена*, вторая гипотеза *подтверждена / не подтверждена* и третья не подтверждена >.*подтверждена / не подтверждена*\n"
      ]
    }
  ],
  "metadata": {
    "kernelspec": {
      "display_name": "Python 3 (ipykernel)",
      "language": "python",
      "name": "python3"
    },
    "language_info": {
      "codemirror_mode": {
        "name": "ipython",
        "version": 3
      },
      "file_extension": ".py",
      "mimetype": "text/x-python",
      "name": "python",
      "nbconvert_exporter": "python",
      "pygments_lexer": "ipython3",
      "version": "3.9.12"
    },
    "colab": {
      "provenance": [],
      "include_colab_link": true
    }
  },
  "nbformat": 4,
  "nbformat_minor": 0
}